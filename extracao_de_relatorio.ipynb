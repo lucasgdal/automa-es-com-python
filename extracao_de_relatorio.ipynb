{
 "cells": [
  {
   "cell_type": "code",
   "execution_count": null,
   "id": "3fefb6be",
   "metadata": {},
   "outputs": [],
   "source": [
    "import pyautogui\n",
    "import time\n",
    "\n",
    "def gerador_de_relatorio():\n",
    "    pyautogui.moveTo(256, 1053)\n",
    "    pyautogui.click(246,1052)\n",
    "    time.sleep(2)"
   ]
  },
  {
   "cell_type": "code",
   "execution_count": null,
   "id": "746756cf",
   "metadata": {},
   "outputs": [],
   "source": [
    "#clicar em ok\n",
    "\n",
    "    pyautogui.moveTo(905, 598)\n",
    "    pyautogui.press('enter')\n",
    "    time.sleep(2)"
   ]
  },
  {
   "cell_type": "code",
   "execution_count": null,
   "id": "3964bd39",
   "metadata": {},
   "outputs": [],
   "source": [
    "#digitar a senha\n",
    "\n",
    "    pyautogui.write('*******')\n",
    "\n",
    "    for i in range(0, 3):\n",
    "        pyautogui.press('tab')\n",
    "\n",
    "\n",
    "    pyautogui.press('enter')\n",
    "    time.sleep(5)\n"
   ]
  },
  {
   "cell_type": "code",
   "execution_count": null,
   "id": "f61f49e7",
   "metadata": {},
   "outputs": [],
   "source": [
    "# entrar nos relatórios de inconsistência\n",
    "\n",
    "    pyautogui.moveTo(272, 43)\n",
    "    pyautogui.click(272, 43)\n",
    "    pyautogui.moveTo(333, 84)\n",
    "    pyautogui.click(333, 84)\n",
    "    pyautogui.moveTo(568, 147)\n",
    "    pyautogui.click(568, 147)\n",
    "    time.sleep(10)"
   ]
  },
  {
   "cell_type": "code",
   "execution_count": null,
   "id": "c9801b5d",
   "metadata": {},
   "outputs": [],
   "source": [
    "# relatório de inconsistência\n",
    "    pyautogui.write('686')\n",
    "    pyautogui.press('tab')\n",
    "\n",
    "    pyautogui.click(388, 556)\n",
    "    pyautogui.moveTo(332, 720)\n",
    "    pyautogui.click(332,720)\n",
    "    pyautogui.press('tab')\n",
    "    pyautogui.alert('Digite a data prevista inicial')\n",
    "    time.sleep(9)\n",
    "    pyautogui.moveTo(564, 614)\n",
    "    pyautogui.click(564,614)\n",
    "    pyautogui.alert('Digite a data prevista final')\n",
    "    time.sleep(9)\n",
    "    pyautogui.moveTo(450, 695)\n",
    "    pyautogui.click(450, 695)\n",
    "    pyautogui.moveTo(782, 97)\n",
    "    pyautogui.click(782, 97)\n",
    "    time.sleep(15)\n",
    "    pyautogui.moveTo(617, 101)\n",
    "    pyautogui.click(617,101)\n",
    "\n",
    "\n",
    "gerador_de_relatorio()\n"
   ]
  }
 ],
 "metadata": {
  "kernelspec": {
   "display_name": "Python 3 (ipykernel)",
   "language": "python",
   "name": "python3"
  },
  "language_info": {
   "codemirror_mode": {
    "name": "ipython",
    "version": 3
   },
   "file_extension": ".py",
   "mimetype": "text/x-python",
   "name": "python",
   "nbconvert_exporter": "python",
   "pygments_lexer": "ipython3",
   "version": "3.9.12"
  }
 },
 "nbformat": 4,
 "nbformat_minor": 5
}
